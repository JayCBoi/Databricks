{
  "nbformat": 4,
  "nbformat_minor": 0,
  "metadata": {
    "colab": {
      "provenance": []
    },
    "kernelspec": {
      "name": "python3",
      "display_name": "Python 3"
    },
    "language_info": {
      "name": "python"
    }
  },
  "cells": [
    {
      "cell_type": "code",
      "execution_count": null,
      "metadata": {
        "id": "QAWSXE3o-5Od"
      },
      "outputs": [],
      "source": []
    },
    {
      "cell_type": "markdown",
      "source": [
        "# A/B test Analysis: Landing Page Conversion\n",
        "This split test aims to determine if the new page achieves a **higher conversion rate**. I will try to simulate data for two groups - A and B - and then try to answear the hypotesis: *\"After the changes are done in version B, conversion rate will be higher by 10%\"*.\n",
        "\n",
        "**Note:** Full hypothesis with math-behind will be done further down.\n",
        "\n"
      ],
      "metadata": {
        "id": "jJJlVW8pBJIV"
      }
    },
    {
      "cell_type": "markdown",
      "source": [
        "##Terms used:\n",
        "#### **Group A** - control group, old landing page\n",
        "#### **Group B** - treatment group, new landing page"
      ],
      "metadata": {
        "id": "Y82iWGZvDpju"
      }
    },
    {
      "cell_type": "code",
      "source": [
        "# 1. Setup & libraries\n",
        "import numpy as np\n",
        "import pandas as pd\n",
        "import matplotlib.pyplot as plt\n",
        "import seaborn as sns\n",
        "from scipy import stats\n",
        "import math"
      ],
      "metadata": {
        "id": "Kdm8QVgkCdGm"
      },
      "execution_count": 151,
      "outputs": []
    },
    {
      "cell_type": "code",
      "source": [
        "plt.style.use('default') # Clear visuals"
      ],
      "metadata": {
        "id": "0MHcFugECmJR"
      },
      "execution_count": 2,
      "outputs": []
    },
    {
      "cell_type": "code",
      "source": [
        "# 2. Simulating A/B Testing Data.\n",
        "\n",
        "np.random.seed(42) # To reproduce results\n",
        "\n",
        "# Simulation parameters\n",
        "sample_size = 10000         # Users in each group (yes, I know it seems absurdly large, all good)\n",
        "base_conversion_rate = 0.10 # Conversion for A (control)\n",
        "lift = 0.01                 # Expected 1% point increase for B (so 10% relative lift)"
      ],
      "metadata": {
        "id": "_v17KXSlCsqq"
      },
      "execution_count": 24,
      "outputs": []
    },
    {
      "cell_type": "code",
      "source": [
        "# Simulating data for A\n",
        "group_a_conversions = np.random.choice([0,1], size = sample_size, p = [1-base_conversion_rate, base_conversion_rate])\n",
        "\n",
        "# Simulating data for B\n",
        "group_b_conversion_rate = base_conversion_rate + lift\n",
        "group_b_conversions = np.random.choice([0,1], size = sample_size, p = [1-group_b_conversion_rate, group_b_conversion_rate])\n",
        "\n",
        "# Creating a DataFrame for the results\n",
        "ab_data = pd.DataFrame({\n",
        "    'group' : ['A'] * sample_size + ['B'] * sample_size,\n",
        "    'converted' : np.concatenate([group_a_conversions, group_b_conversions])\n",
        "})"
      ],
      "metadata": {
        "id": "kS7h4d6NCw4r"
      },
      "execution_count": 25,
      "outputs": []
    },
    {
      "cell_type": "code",
      "source": [
        "# Preview the data\n",
        "print(\"First and last 15 rows of A/B test data:\")\n",
        "print(ab_data.head(15))\n",
        "print(ab_data.tail(15))"
      ],
      "metadata": {
        "colab": {
          "base_uri": "https://localhost:8080/"
        },
        "collapsed": true,
        "id": "rxwOrtyCEqaN",
        "outputId": "5fecdfdf-afc9-49f9-b93b-21c34b87a843"
      },
      "execution_count": 26,
      "outputs": [
        {
          "output_type": "stream",
          "name": "stdout",
          "text": [
            "First and last 15 rows of A/B test data:\n",
            "   group  converted\n",
            "0      A          0\n",
            "1      A          1\n",
            "2      A          0\n",
            "3      A          0\n",
            "4      A          0\n",
            "5      A          0\n",
            "6      A          0\n",
            "7      A          0\n",
            "8      A          0\n",
            "9      A          0\n",
            "10     A          0\n",
            "11     A          1\n",
            "12     A          0\n",
            "13     A          0\n",
            "14     A          0\n",
            "      group  converted\n",
            "19985     B          1\n",
            "19986     B          0\n",
            "19987     B          0\n",
            "19988     B          0\n",
            "19989     B          1\n",
            "19990     B          0\n",
            "19991     B          0\n",
            "19992     B          0\n",
            "19993     B          0\n",
            "19994     B          1\n",
            "19995     B          0\n",
            "19996     B          0\n",
            "19997     B          0\n",
            "19998     B          0\n",
            "19999     B          0\n"
          ]
        }
      ]
    },
    {
      "cell_type": "code",
      "source": [
        "# 3. Data analysis\n",
        "\n",
        "# Summary statistics by group\n",
        "summary_df = ab_data.groupby('group')['converted'].agg([\n",
        "    ('total_users', 'count'),\n",
        "    ('conversions', 'sum'),\n",
        "    ('conversion_rate', 'mean')\n",
        "]).round(4)\n",
        "\n",
        "# Adding a column for relative improvement (Group A will result in 0.0)\n",
        "summary_df.loc\n",
        "a_rate = summary_df.loc['A', 'conversion_rate']\n",
        "summary_df['relative_improvement'] = ((summary_df['conversion_rate'] / a_rate) - 1)"
      ],
      "metadata": {
        "id": "i7AjR5WwHwy5"
      },
      "execution_count": 70,
      "outputs": []
    },
    {
      "cell_type": "code",
      "source": [
        "print(\"A/B Test Summary Statistics:\")\n",
        "print(summary_df)"
      ],
      "metadata": {
        "colab": {
          "base_uri": "https://localhost:8080/"
        },
        "id": "zO4msc1WH00N",
        "outputId": "cbde6ee0-a353-4778-c866-d6c7150f0d03"
      },
      "execution_count": 72,
      "outputs": [
        {
          "output_type": "stream",
          "name": "stdout",
          "text": [
            "A/B Test Summary Statistics:\n",
            "       total_users  conversions  conversion_rate  relative_improvement\n",
            "group                                                                 \n",
            "A            10000          961           0.0961              0.000000\n",
            "B            10000         1130           0.1130              0.175858\n"
          ]
        }
      ]
    },
    {
      "cell_type": "code",
      "source": [
        "# 3.1 Visualizing Conversion Rates\n",
        "\n",
        "# MAIN PLOT\n",
        "plt.figure(figsize=(6, 5))\n",
        "\n",
        "# I want to show the difference in conversion by coloring the \"exessive\" part of the group B column\n",
        "base_rate = summary_df.loc['A', 'conversion_rate']\n",
        "lift_rate = summary_df.loc['B', 'conversion_rate'] - base_rate\n",
        "\n",
        "# So now one bar for A, and two bars for B\n",
        "groups = ['A', 'B']\n",
        "values_base = [base_rate, base_rate]  # Both bars will use this one\n",
        "values_lift = [0, lift_rate]          # Group B bar will have the additional bar for lift (or rather the difference between the two)\n",
        "\n",
        "# Now to plot the base for both\n",
        "bars_base = plt.bar(groups, values_base, color='#51a5e1', label='Base Conversion',\n",
        "                    edgecolor='black', linewidth=1)\n",
        "\n",
        "# And the lift part for B\n",
        "bars_lift = plt.bar(groups, values_lift, bottom=values_base, color='#ffd900',\n",
        "                    label='Lift from Change', edgecolor='black', linewidth=1)\n",
        "\n",
        "plt.title('A/B Test Results', fontsize=16, fontweight='bold', pad=15)\n",
        "plt.xlabel('Group', fontsize=12)\n",
        "plt.ylabel('Conversion Rate', fontsize=12)\n",
        "plt.ylim(0, max(summary_df['conversion_rate']) * 1.15)\n",
        "\n",
        "# Annotations with % values for readability\n",
        "\n",
        "upper_margin = 0.005 # To put the annotation a bit higher\n",
        "\n",
        "for i, group in enumerate(groups):\n",
        "    total_height = values_base[i] + values_lift[i]\n",
        "    plt.text(x=i, y=total_height + upper_margin,\n",
        "             s=f\"{total_height*100:.2f}%\",\n",
        "             ha='center', fontweight='bold', fontsize=12)\n",
        "\n",
        "# Add a legend to explain the colors\n",
        "plt.legend(loc='upper left')\n",
        "\n",
        "plt.tight_layout()\n",
        "plt.show()"
      ],
      "metadata": {
        "colab": {
          "base_uri": "https://localhost:8080/",
          "height": 507
        },
        "id": "raLmPBoyLyN8",
        "outputId": "55b6b5c3-50bf-4b54-c421-fc9c7048d81a"
      },
      "execution_count": 61,
      "outputs": [
        {
          "output_type": "display_data",
          "data": {
            "text/plain": [
              "<Figure size 600x500 with 1 Axes>"
            ],
            "image/png": "[encoded data removed]"
          },
          "metadata": {}
        }
      ]
    },
    {
      "cell_type": "markdown",
      "source": [
        "# **Initial Observations**\n",
        "Group B shows higher conversion rate, but we need statistical testing.\n",
        "\n",
        "---\n",
        "\n",
        "I will use a **Z-test for proportions** to check for statistical significance. For that I need a defined hypothesis:\n",
        "\n",
        "## - **Null Hypothesis (H₀):** Conversion rate of Group B ≤ Conversion rate of Group A.\n",
        "*[P(B) - P(A) ≤ 0]*\n",
        "\n",
        "## - **Alternative Hypothesis (H₁):** Conversion rate of Group B > Conversion rate of Group A.\n",
        "*[P(B) - P(A) > 0]*\n",
        "\n",
        "\n",
        "\n"
      ],
      "metadata": {
        "id": "jV4y5w_APtUA"
      }
    },
    {
      "cell_type": "code",
      "source": [
        "# 4.1 Hypothesis testing - Z-Test\n",
        "\n",
        "conversions_a = summary_df.loc['A', 'conversions']\n",
        "users_a = summary_df.loc['A', 'total_users']\n",
        "conversions_b = summary_df.loc['B', 'conversions']\n",
        "users_b = summary_df.loc['B', 'total_users']\n",
        "\n",
        "# First, conversion rates\n",
        "p_a = conversions_a / users_a\n",
        "p_b = conversions_b / users_b\n",
        "p_pooled = (conversions_a + conversions_b) / (users_a + users_b)\n",
        "\n",
        "# Now to calculate two-proportion Z-Score (im using standard approach: https://en.wikipedia.org/wiki/Two-proportion_Z-test)\n",
        "se = math.sqrt(p_pooled * (1 - p_pooled) * (1/users_a + 1/users_b))\n",
        "z_score = (p_b - p_a) / se\n",
        "\n",
        "# Last thing is the p-value (one-tailed, since I want to show that P(B) > P(A))\n",
        "p_value = 1 - stats.norm.cdf(z_score)\n",
        "\n",
        "# Significance level\n",
        "alpha = 0.05\n",
        "\n",
        "print(\"Hypothesis Test Results:\")\n",
        "print(f\"Z-score: {z_score:.4f}\")\n",
        "print(f\"P-value: {p_value:.6f}\")\n",
        "print(f\"Significance level: {alpha}\")"
      ],
      "metadata": {
        "colab": {
          "base_uri": "https://localhost:8080/"
        },
        "id": "CTWrRgAwQ2Pv",
        "outputId": "269cd264-1d15-434b-a71a-46d610342c57"
      },
      "execution_count": 73,
      "outputs": [
        {
          "output_type": "stream",
          "name": "stdout",
          "text": [
            "Hypothesis Test Results:\n",
            "Z-score: 3.9056\n",
            "P-value: 0.000047\n",
            "Significance level: 0.05\n"
          ]
        }
      ]
    },
    {
      "cell_type": "code",
      "source": [
        "# 4.2 Results\n",
        "\n",
        "if p_value < alpha:\n",
        "    print(f\"Result: Statistically Significant\")\n",
        "    print(f\"We reject the null hypothesis (H₀). There is sufficient evidence to conclude that the new landing page (Version B) has a higher conversion rate than the old version (Version A) at a {alpha*100}% significance level.\")\n",
        "else:\n",
        "    print(f\"Result: Not Statistically Significant\")\n",
        "    print(f\"We fail to reject the null hypothesis (H₀). There is not enough evidence to conclude that Version B is better than Version A.\")\n",
        "\n",
        "# Calculate the confidence interval for the difference in conversion rates\n",
        "std_error_diff = math.sqrt((p_a * (1-p_a)/users_a) + (p_b * (1-p_b)/users_b))\n",
        "margin_of_error = 1.96 * std_error_diff # For 95% CI\n",
        "ci_low = (p_b - p_a) - margin_of_error\n",
        "ci_high = (p_b - p_a) + margin_of_error\n",
        "\n",
        "print(f\"\\nThe difference in conversion rate (B - A) is: {((p_b - p_a)*100):.2f}% points\")\n",
        "print(f\"95% Confidence Interval for the difference: [{ci_low*100:.3f}%, {ci_high*100:.3f}%]\")\n",
        "print(f\"Conversion rate in B went up by {((p_b / p_a - 1) * 100):.2f}% comparing with A.\")\n"
      ],
      "metadata": {
        "colab": {
          "base_uri": "https://localhost:8080/"
        },
        "id": "EfnPq3i_Skyg",
        "outputId": "36cd3a7c-a3d5-47fb-90b6-ae3b0d67e772"
      },
      "execution_count": 87,
      "outputs": [
        {
          "output_type": "stream",
          "name": "stdout",
          "text": [
            "Result: Statistically Significant\n",
            "We reject the null hypothesis (H₀). There is sufficient evidence to conclude that the new landing page (Version B) has a higher conversion rate than the old version (Version A) at a 5.0% significance level.\n",
            "\n",
            "The difference in conversion rate (B - A) is: 1.69% points\n",
            "95% Confidence Interval for the difference: [0.842%, 2.538%]\n",
            "Conversion rate in B went up by 17.59% comparing with A.\n"
          ]
        }
      ]
    },
    {
      "cell_type": "markdown",
      "source": [
        "## **Calculating statistical power**\n",
        "Let's see the probability of correctly rejecting a false null hypothesis in this case. Since I work with proportions here, I will try to manualy calculate the power, to avoid library interpretation issues."
      ],
      "metadata": {
        "id": "piUUIvq0ZxiJ"
      }
    },
    {
      "cell_type": "code",
      "source": [
        "# 6.1 Statistical Power\n",
        "\n",
        "# I need some tools form statsmodels\n",
        "from statsmodels.stats.power import NormalIndPower\n",
        "from statsmodels.stats.proportion import proportion_effectsize\n",
        "\n",
        "# First - calculating Cohen's h effect size for proportions\n",
        "effect_size = proportion_effectsize(prop1 = p_b, prop2 = p_a)\n",
        "print(f\"Cohen's h effect size: {effect_size:.3f}\")\n",
        "\n",
        "# Solve for power\n",
        "power_analyzer = NormalIndPower()\n",
        "power = power_analyzer.solve_power(\n",
        "    effect_size=effect_size,\n",
        "    nobs1 = users_a,        # Sample size in group A\n",
        "    alpha = alpha,          # Significance level\n",
        "    alternative = 'larger'  # One-tailed test\n",
        ")\n",
        "\n",
        "print(f\"\\nStatistical Power of this test: {power:.2%}\")\n"
      ],
      "metadata": {
        "colab": {
          "base_uri": "https://localhost:8080/"
        },
        "id": "vCA1_pdLoDs7",
        "outputId": "21743749-6b44-492c-86a4-2dc3ba17db88"
      },
      "execution_count": 126,
      "outputs": [
        {
          "output_type": "stream",
          "name": "stdout",
          "text": [
            "Cohen's h effect size: 0.055\n",
            "\n",
            "Statistical Power of this test: 98.82%\n"
          ]
        }
      ]
    },
    {
      "cell_type": "markdown",
      "source": [
        "## Now that is a **massive** statistic power.\n",
        "That doesn't mean I did it right though, mainly because the sample is just unnecessarly large. Let's find one that gets us around 80% power."
      ],
      "metadata": {
        "id": "ct2hzMtjmqqw"
      }
    },
    {
      "cell_type": "code",
      "source": [
        "# 6.2 Demonstrate the Impact of Sample Size on Power\n",
        "# Let's see how the statistical power changes with sample size.\n",
        "\n",
        "# Define a range of sample sizes to test\n",
        "sample_sizes = np.arange(100, 10000, 400)  # From 100 to 10,000 users per group, jumping by 400\n",
        "\n",
        "# Calculate power for each sample size using statsmodels\n",
        "powers = []\n",
        "for n in sample_sizes:\n",
        "    power_n = power_analyzer.solve_power(\n",
        "        effect_size = effect_size, # So if I want to detect an effect of this size (for 10000) how low can I get with sample count?\n",
        "        nobs1 = n,\n",
        "        alpha = alpha,\n",
        "        alternative='larger'\n",
        "    )\n",
        "    powers.append(power_n)\n",
        "\n",
        "# Power curve plot\n",
        "plt.figure(figsize=(8, 5))\n",
        "plt.plot(sample_sizes, powers, 'o-', linewidth=1, markersize=6, color = \"#004d99\")\n",
        "plt.axhline(y=0.8, color='r', linestyle='--', label='80% Power')\n",
        "plt.axvline(x=users_a, color='g', linestyle='--', label=f'Our Test Size (n={users_a})')\n",
        "\n",
        "plt.title('Statistical Power vs. Sample Size per Group', fontsize=16, fontweight='bold', pad=20)\n",
        "plt.xlabel('Sample Size per Group', fontsize=12)\n",
        "plt.ylabel('Statistical Power', fontsize=12)\n",
        "plt.grid(True, alpha=0.5)\n",
        "plt.legend()\n",
        "\n",
        "# Annotation for ~80% power sample\n",
        "for i, (n, pwr) in enumerate(zip(sample_sizes, powers)):\n",
        "    if pwr >= 0.8 and (i == 0 or powers[i-1] < 0.8):\n",
        "        plt.annotate(f'n ≈ {n}', xy=(n, pwr), xytext=(0, -20), textcoords='offset points',\n",
        "                    bbox=dict(boxstyle=\"round,pad=0.2\", fc=\"yellow\", alpha=0.7))\n",
        "\n",
        "plt.tight_layout()\n",
        "plt.show()\n",
        "\n",
        "print(f\"With our actual sample size (n={users_a} per group), power = {power:.1%}\")\n",
        "\n",
        "# Find minimum size for 80% power\n",
        "try:\n",
        "    min_size_index = next(i for i, pwr in enumerate(powers) if pwr >= 0.8)\n",
        "    min_size_for_80 = sample_sizes[min_size_index]\n",
        "    print(f\"Minimum sample size needed for 80% power: ~{min_size_for_80} users per group\")\n",
        "except StopIteration:\n",
        "    print(\">10,000 users per group needed for 80% power.\")"
      ],
      "metadata": {
        "colab": {
          "base_uri": "https://localhost:8080/",
          "height": 542
        },
        "id": "O1MZ9R4Qoyiu",
        "outputId": "8f2808a0-0a54-4a58-ca1f-43b7eeaf6b74"
      },
      "execution_count": 150,
      "outputs": [
        {
          "output_type": "display_data",
          "data": {
            "text/plain": [
              "<Figure size 800x500 with 1 Axes>"
            ],
            "image/png": "[encoded data removed]"
          },
          "metadata": {}
        },
        {
          "output_type": "stream",
          "name": "stdout",
          "text": [
            "With our actual sample size (n=10000 per group), power = 98.8%\n",
            "Minimum sample size needed for 80% power: ~4100 users per group\n"
          ]
        }
      ]
    },
    {
      "cell_type": "markdown",
      "source": [
        "## So just as I feared...\n",
        "Sample size of 10000 per group was an *ultra-bad* shot. But thanks to the analysis above I can tell, that to have ~80% statistical power, I would not need to get 10000 samples per group. Just around 4000 should do It, what a relief.\n",
        "\n",
        "**Author:** Piotr Zbiński"
      ],
      "metadata": {
        "id": "miTBeOwxvoZd"
      }
    }
  ]
}